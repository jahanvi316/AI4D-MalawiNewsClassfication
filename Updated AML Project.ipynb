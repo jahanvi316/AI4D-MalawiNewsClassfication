{
 "cells": [
  {
   "cell_type": "markdown",
   "metadata": {},
   "source": [
    "Loading necessory packages"
   ]
  },
  {
   "cell_type": "code",
   "execution_count": 69,
   "metadata": {
    "scrolled": true
   },
   "outputs": [],
   "source": [
    "import pandas as pd\n",
    "import numpy as np\n",
    "import tensorflow as tf\n",
    "\n",
    "from sklearn import model_selection, preprocessing, linear_model, naive_bayes, metrics, svm, neural_network\n",
    "from sklearn.feature_extraction.text import TfidfVectorizer, CountVectorizer\n",
    "from sklearn import decomposition, ensemble\n",
    "from sklearn.ensemble import RandomForestClassifier, VotingClassifier\n",
    "\n",
    "import pandas, numpy, string\n",
    "from keras.preprocessing import text, sequence\n",
    "from keras import layers, models, optimizers\n",
    "\n",
    "import warnings\n",
    "warnings.filterwarnings(\"ignore\") # Ignore warnings"
   ]
  },
  {
   "cell_type": "markdown",
   "metadata": {},
   "source": [
    "Loading Train dataset ..."
   ]
  },
  {
   "cell_type": "code",
   "execution_count": 8,
   "metadata": {},
   "outputs": [
    {
     "name": "stdout",
     "output_type": "stream",
     "text": [
      "Length of dataset before preprocessing:  1436\n",
      "\n",
      " We also have 20 different labels/class including ['POLITICS' 'HEALTH' 'LAW/ORDER' 'RELIGION' 'FARMING'\n",
      " 'WILDLIFE/ENVIRONMENT' 'SOCIAL ISSUES' 'SOCIAL' 'OPINION/ESSAY'\n",
      " 'LOCALCHIEFS' 'WITCHCRAFT' 'ECONOMY' 'SPORTS' 'RELATIONSHIPS' 'TRANSPORT'\n",
      " 'CULTURE' 'EDUCATION' 'MUSIC' 'ARTS AND CRAFTS' 'FLOODING'] \n",
      "\n"
     ]
    }
   ],
   "source": [
    "df = pd.read_csv('Train.csv')\n",
    "print('Length of dataset before preprocessing: ', len(df))\n",
    "print('\\n We also have {} different labels/class including {} \\n'.format(len(df['Label'].unique()), df['Label'].unique()))"
   ]
  },
  {
   "cell_type": "code",
   "execution_count": 9,
   "metadata": {},
   "outputs": [
    {
     "name": "stdout",
     "output_type": "stream",
     "text": [
      "Each sample in raw dataset include a col that contains 15-16 different sentences...\n",
      "\n"
     ]
    },
    {
     "data": {
      "text/html": [
       "<div>\n",
       "<style scoped>\n",
       "    .dataframe tbody tr th:only-of-type {\n",
       "        vertical-align: middle;\n",
       "    }\n",
       "\n",
       "    .dataframe tbody tr th {\n",
       "        vertical-align: top;\n",
       "    }\n",
       "\n",
       "    .dataframe thead th {\n",
       "        text-align: right;\n",
       "    }\n",
       "</style>\n",
       "<table border=\"1\" class=\"dataframe\">\n",
       "  <thead>\n",
       "    <tr style=\"text-align: right;\">\n",
       "      <th></th>\n",
       "      <th>ID</th>\n",
       "      <th>Text</th>\n",
       "      <th>Label</th>\n",
       "    </tr>\n",
       "  </thead>\n",
       "  <tbody>\n",
       "    <tr>\n",
       "      <th>0</th>\n",
       "      <td>ID_AASHwXxg</td>\n",
       "      <td>Mwangonde: Khansala wachinyamata Akamati achi...</td>\n",
       "      <td>POLITICS</td>\n",
       "    </tr>\n",
       "    <tr>\n",
       "      <th>1</th>\n",
       "      <td>ID_AGoFySzn</td>\n",
       "      <td>MCP siidakhutire ndi kalembera Chipani cha Ma...</td>\n",
       "      <td>POLITICS</td>\n",
       "    </tr>\n",
       "    <tr>\n",
       "      <th>2</th>\n",
       "      <td>ID_AGrrkBGP</td>\n",
       "      <td>Bungwe la MANEPO Lapempha Boma Liganizire Anth...</td>\n",
       "      <td>HEALTH</td>\n",
       "    </tr>\n",
       "    <tr>\n",
       "      <th>3</th>\n",
       "      <td>ID_AIJeigeG</td>\n",
       "      <td>Ndale zogawanitsa miyambo zanyanya Si zachile...</td>\n",
       "      <td>POLITICS</td>\n",
       "    </tr>\n",
       "    <tr>\n",
       "      <th>4</th>\n",
       "      <td>ID_APMprMbV</td>\n",
       "      <td>Nanga wapolisi ataphofomoka? Masiku ano sichi...</td>\n",
       "      <td>LAW/ORDER</td>\n",
       "    </tr>\n",
       "    <tr>\n",
       "      <th>...</th>\n",
       "      <td>...</td>\n",
       "      <td>...</td>\n",
       "      <td>...</td>\n",
       "    </tr>\n",
       "    <tr>\n",
       "      <th>1431</th>\n",
       "      <td>ID_zmTmmEio</td>\n",
       "      <td>Eni Minibus Ati Ali ndi Ufulu Wokweza Mitengo ...</td>\n",
       "      <td>TRANSPORT</td>\n",
       "    </tr>\n",
       "    <tr>\n",
       "      <th>1432</th>\n",
       "      <td>ID_znOlIaGQ</td>\n",
       "      <td>Kachali apepesa: Kulankhula motumbwa kuthe An...</td>\n",
       "      <td>POLITICS</td>\n",
       "    </tr>\n",
       "    <tr>\n",
       "      <th>1433</th>\n",
       "      <td>ID_znracTjN</td>\n",
       "      <td>Mawu supports non-fiction writers The Malawi ...</td>\n",
       "      <td>EDUCATION</td>\n",
       "    </tr>\n",
       "    <tr>\n",
       "      <th>1434</th>\n",
       "      <td>ID_ztdsmmva</td>\n",
       "      <td>Tame Mwawa: Phwete ndiye kudya kwake Sewero l...</td>\n",
       "      <td>SOCIAL ISSUES</td>\n",
       "    </tr>\n",
       "    <tr>\n",
       "      <th>1435</th>\n",
       "      <td>ID_zteydTpN</td>\n",
       "      <td>PAC iunguza za boma la chifedulo Nthumwi zomw...</td>\n",
       "      <td>POLITICS</td>\n",
       "    </tr>\n",
       "  </tbody>\n",
       "</table>\n",
       "<p>1436 rows × 3 columns</p>\n",
       "</div>"
      ],
      "text/plain": [
       "               ID                                               Text  \\\n",
       "0     ID_AASHwXxg   Mwangonde: Khansala wachinyamata Akamati achi...   \n",
       "1     ID_AGoFySzn   MCP siidakhutire ndi kalembera Chipani cha Ma...   \n",
       "2     ID_AGrrkBGP  Bungwe la MANEPO Lapempha Boma Liganizire Anth...   \n",
       "3     ID_AIJeigeG   Ndale zogawanitsa miyambo zanyanya Si zachile...   \n",
       "4     ID_APMprMbV   Nanga wapolisi ataphofomoka? Masiku ano sichi...   \n",
       "...           ...                                                ...   \n",
       "1431  ID_zmTmmEio  Eni Minibus Ati Ali ndi Ufulu Wokweza Mitengo ...   \n",
       "1432  ID_znOlIaGQ   Kachali apepesa: Kulankhula motumbwa kuthe An...   \n",
       "1433  ID_znracTjN   Mawu supports non-fiction writers The Malawi ...   \n",
       "1434  ID_ztdsmmva   Tame Mwawa: Phwete ndiye kudya kwake Sewero l...   \n",
       "1435  ID_zteydTpN   PAC iunguza za boma la chifedulo Nthumwi zomw...   \n",
       "\n",
       "              Label  \n",
       "0          POLITICS  \n",
       "1          POLITICS  \n",
       "2            HEALTH  \n",
       "3          POLITICS  \n",
       "4         LAW/ORDER  \n",
       "...             ...  \n",
       "1431      TRANSPORT  \n",
       "1432       POLITICS  \n",
       "1433      EDUCATION  \n",
       "1434  SOCIAL ISSUES  \n",
       "1435       POLITICS  \n",
       "\n",
       "[1436 rows x 3 columns]"
      ]
     },
     "execution_count": 9,
     "metadata": {},
     "output_type": "execute_result"
    }
   ],
   "source": [
    "print('Each sample in raw dataset include a col that contains 15-16 different sentences...\\n')\n",
    "df.head(1500)"
   ]
  },
  {
   "cell_type": "markdown",
   "metadata": {},
   "source": [
    "Generating new table including refID of news agency, sentence in the news, Label of each sentence"
   ]
  },
  {
   "cell_type": "code",
   "execution_count": 10,
   "metadata": {
    "scrolled": true
   },
   "outputs": [],
   "source": [
    "X_data = pd.DataFrame(columns=['refID', 'Sentence', 'Label'])\n",
    "for idx in range(len(df)):\n",
    "    tmp = df.loc[idx]['Text'].split('\\n')\n",
    "    for jdx in range(len(tmp)):\n",
    "        X_data = X_data.append({'refID': df.loc[idx]['ID'],'Sentence': tmp[jdx], 'Label': df.loc[idx]['Label']}, ignore_index=True)"
   ]
  },
  {
   "cell_type": "markdown",
   "metadata": {},
   "source": [
    "preprocessing all samples by changing them to lowercase and erasing punctuations"
   ]
  },
  {
   "cell_type": "code",
   "execution_count": 12,
   "metadata": {},
   "outputs": [
    {
     "name": "stdout",
     "output_type": "stream",
     "text": [
      "Applying preprocessing steps : Changing all characters to lower-case and removing punctuation\n"
     ]
    }
   ],
   "source": [
    "print('Applying preprocessing steps : Changing all characters to lower-case and removing punctuation')\n",
    "X_data.loc[:,\"Sentence\"] = X_data.Sentence.apply(lambda x : str.lower(x))\n",
    "X_data.loc[:,\"Label\"] = X_data.Label.apply(lambda x : str.lower(x))\n",
    "X_data.loc[:,\"Sentence\"] = X_data.Sentence.str.replace('[^\\w\\s]','')\n",
    "X_data.loc[:,\"Sentence\"] = X_data.Sentence.apply(lambda x : x.translate(string.punctuation))"
   ]
  },
  {
   "cell_type": "markdown",
   "metadata": {},
   "source": [
    "changing Labels to indecies ..."
   ]
  },
  {
   "cell_type": "code",
   "execution_count": 13,
   "metadata": {},
   "outputs": [],
   "source": [
    "# label encode the target variable \n",
    "encoder = preprocessing.LabelEncoder()\n",
    "X_data.loc[:,\"Label\"] = encoder.fit_transform(X_data.Label)"
   ]
  },
  {
   "cell_type": "code",
   "execution_count": 14,
   "metadata": {},
   "outputs": [
    {
     "data": {
      "text/html": [
       "<div>\n",
       "<style scoped>\n",
       "    .dataframe tbody tr th:only-of-type {\n",
       "        vertical-align: middle;\n",
       "    }\n",
       "\n",
       "    .dataframe tbody tr th {\n",
       "        vertical-align: top;\n",
       "    }\n",
       "\n",
       "    .dataframe thead th {\n",
       "        text-align: right;\n",
       "    }\n",
       "</style>\n",
       "<table border=\"1\" class=\"dataframe\">\n",
       "  <thead>\n",
       "    <tr style=\"text-align: right;\">\n",
       "      <th></th>\n",
       "      <th>refID</th>\n",
       "      <th>Sentence</th>\n",
       "      <th>Label</th>\n",
       "    </tr>\n",
       "  </thead>\n",
       "  <tbody>\n",
       "    <tr>\n",
       "      <th>0</th>\n",
       "      <td>ID_AASHwXxg</td>\n",
       "      <td>mwangonde khansala wachinyamata akamati achin...</td>\n",
       "      <td>11</td>\n",
       "    </tr>\n",
       "    <tr>\n",
       "      <th>1</th>\n",
       "      <td>ID_AASHwXxg</td>\n",
       "      <td>mbiri ya maphunziro anu ndi yotani maphunziro...</td>\n",
       "      <td>11</td>\n",
       "    </tr>\n",
       "    <tr>\n",
       "      <th>2</th>\n",
       "      <td>ID_AASHwXxg</td>\n",
       "      <td>mudayamba bwanji zandale kuyambira ndili wach...</td>\n",
       "      <td>11</td>\n",
       "    </tr>\n",
       "    <tr>\n",
       "      <th>3</th>\n",
       "      <td>ID_AASHwXxg</td>\n",
       "      <td>ntchito mukugwira ndi zomwe munkayembekezera ...</td>\n",
       "      <td>11</td>\n",
       "    </tr>\n",
       "    <tr>\n",
       "      <th>4</th>\n",
       "      <td>ID_AASHwXxg</td>\n",
       "      <td>masomphenya anu ndi otani pandale ine ndine m...</td>\n",
       "      <td>11</td>\n",
       "    </tr>\n",
       "    <tr>\n",
       "      <th>...</th>\n",
       "      <td>...</td>\n",
       "      <td>...</td>\n",
       "      <td>...</td>\n",
       "    </tr>\n",
       "    <tr>\n",
       "      <th>16496</th>\n",
       "      <td>ID_zteydTpN</td>\n",
       "      <td>phiri adati zomwe adakambirana akuluakuluwo a...</td>\n",
       "      <td>11</td>\n",
       "    </tr>\n",
       "    <tr>\n",
       "      <th>16497</th>\n",
       "      <td>ID_zteydTpN</td>\n",
       "      <td>mmbuyomu kafukufuku yemwe nyuzipepala ya the ...</td>\n",
       "      <td>11</td>\n",
       "    </tr>\n",
       "    <tr>\n",
       "      <th>16498</th>\n",
       "      <td>ID_zteydTpN</td>\n",
       "      <td>mchaka cha 2006 mtsogoleri wa dziko lino pete...</td>\n",
       "      <td>11</td>\n",
       "    </tr>\n",
       "    <tr>\n",
       "      <th>16499</th>\n",
       "      <td>ID_zteydTpN</td>\n",
       "      <td>pamsonkhanowo padali a zipani zosiyanasiyana ...</td>\n",
       "      <td>11</td>\n",
       "    </tr>\n",
       "    <tr>\n",
       "      <th>16500</th>\n",
       "      <td>ID_zteydTpN</td>\n",
       "      <td></td>\n",
       "      <td>11</td>\n",
       "    </tr>\n",
       "  </tbody>\n",
       "</table>\n",
       "<p>16501 rows × 3 columns</p>\n",
       "</div>"
      ],
      "text/plain": [
       "             refID                                           Sentence  Label\n",
       "0      ID_AASHwXxg   mwangonde khansala wachinyamata akamati achin...     11\n",
       "1      ID_AASHwXxg   mbiri ya maphunziro anu ndi yotani maphunziro...     11\n",
       "2      ID_AASHwXxg   mudayamba bwanji zandale kuyambira ndili wach...     11\n",
       "3      ID_AASHwXxg   ntchito mukugwira ndi zomwe munkayembekezera ...     11\n",
       "4      ID_AASHwXxg   masomphenya anu ndi otani pandale ine ndine m...     11\n",
       "...            ...                                                ...    ...\n",
       "16496  ID_zteydTpN   phiri adati zomwe adakambirana akuluakuluwo a...     11\n",
       "16497  ID_zteydTpN   mmbuyomu kafukufuku yemwe nyuzipepala ya the ...     11\n",
       "16498  ID_zteydTpN   mchaka cha 2006 mtsogoleri wa dziko lino pete...     11\n",
       "16499  ID_zteydTpN   pamsonkhanowo padali a zipani zosiyanasiyana ...     11\n",
       "16500  ID_zteydTpN                                                        11\n",
       "\n",
       "[16501 rows x 3 columns]"
      ]
     },
     "execution_count": 14,
     "metadata": {},
     "output_type": "execute_result"
    }
   ],
   "source": [
    "X_data"
   ]
  },
  {
   "cell_type": "markdown",
   "metadata": {},
   "source": [
    "split the dataset into training and validation datasets "
   ]
  },
  {
   "cell_type": "code",
   "execution_count": 15,
   "metadata": {},
   "outputs": [],
   "source": [
    "train_x, valid_x, train_y, valid_y = model_selection.train_test_split(X_data['Sentence'], X_data['Label'])"
   ]
  },
  {
   "cell_type": "markdown",
   "metadata": {},
   "source": [
    "approach 1 : encoding words using raw term count features for LDA."
   ]
  },
  {
   "cell_type": "code",
   "execution_count": 16,
   "metadata": {},
   "outputs": [],
   "source": [
    "count_vect = CountVectorizer(analyzer='word', token_pattern=r'\\w{1,}')\n",
    "count_vect.fit(X_data['Sentence'])\n",
    "xtrain_count =  count_vect.transform(train_x)\n",
    "xvalid_count =  count_vect.transform(valid_x)"
   ]
  },
  {
   "cell_type": "markdown",
   "metadata": {},
   "source": [
    "approach 2 : encoding words using rExtracting tf-idf features for NMF"
   ]
  },
  {
   "cell_type": "code",
   "execution_count": 17,
   "metadata": {},
   "outputs": [],
   "source": [
    "tfidf_vect_ngram = TfidfVectorizer(analyzer='word', token_pattern=r'\\w{1,}', ngram_range=(2,3), max_features=5000)\n",
    "tfidf_vect_ngram.fit(X_data['Sentence'])\n",
    "xtrain_tfidf_ngram =  tfidf_vect_ngram.transform(train_x)\n",
    "xvalid_tfidf_ngram =  tfidf_vect_ngram.transform(valid_x)"
   ]
  },
  {
   "cell_type": "code",
   "execution_count": 18,
   "metadata": {},
   "outputs": [],
   "source": [
    "def train_model(classifier, feature_vector_train, label, feature_vector_valid):\n",
    "    # fit the training dataset on the classifier\n",
    "    classifier.fit(feature_vector_train, label)\n",
    "    \n",
    "    # predict the labels on validation dataset\n",
    "    predictions = classifier.predict(feature_vector_valid)\n",
    "    \n",
    "    return metrics.accuracy_score(predictions, valid_y)"
   ]
  },
  {
   "cell_type": "markdown",
   "metadata": {},
   "source": [
    "Naive Bayes"
   ]
  },
  {
   "cell_type": "code",
   "execution_count": 13,
   "metadata": {},
   "outputs": [
    {
     "name": "stdout",
     "output_type": "stream",
     "text": [
      "NB, Count Vectors:  0.44595249636451767\n",
      "NB, N-Gram Vectors:  0.3504604944255938\n"
     ]
    }
   ],
   "source": [
    "# Naive Bayes on Count Vectors\n",
    "accuracy = train_model(naive_bayes.MultinomialNB(), xtrain_count, train_y, xvalid_count)\n",
    "print('NB, Count Vectors: ', accuracy)\n",
    "\n",
    "# Naive Bayes on Ngram Level TF IDF Vectors\n",
    "accuracy = train_model(naive_bayes.MultinomialNB(), xtrain_tfidf_ngram, train_y, xvalid_tfidf_ngram)\n",
    "print('NB, N-Gram Vectors: ', accuracy)\n"
   ]
  },
  {
   "cell_type": "markdown",
   "metadata": {},
   "source": [
    "SVM"
   ]
  },
  {
   "cell_type": "code",
   "execution_count": 14,
   "metadata": {},
   "outputs": [
    {
     "name": "stdout",
     "output_type": "stream",
     "text": [
      "SVM, Count Vectors:  0.43165293262239457\n",
      "SVM, N-Gram Vectors:  0.33737275811924383\n"
     ]
    }
   ],
   "source": [
    "accuracy = train_model(svm.SVC(), xtrain_count, train_y, xvalid_count)\n",
    "print('SVM, Count Vectors: ', accuracy)\n",
    "\n",
    "accuracy = train_model(svm.SVC(), xtrain_tfidf_ngram, train_y, xvalid_tfidf_ngram)\n",
    "print('SVM, N-Gram Vectors: ', accuracy)"
   ]
  },
  {
   "cell_type": "markdown",
   "metadata": {},
   "source": [
    "Random Forest"
   ]
  },
  {
   "cell_type": "code",
   "execution_count": 15,
   "metadata": {},
   "outputs": [
    {
     "name": "stdout",
     "output_type": "stream",
     "text": [
      "RF, Count Vectors:  0.4590402326708677\n",
      "RF, N-Gram Vectors:  0.3584585555016966\n"
     ]
    }
   ],
   "source": [
    "# RF on Count Vectors\n",
    "accuracy = train_model(ensemble.RandomForestClassifier(), xtrain_count, train_y, xvalid_count)\n",
    "print('RF, Count Vectors: ', accuracy)\n",
    "\n",
    "# RF on Word Level TF IDF Vectors\n",
    "accuracy = train_model(ensemble.RandomForestClassifier(), xtrain_tfidf_ngram, train_y, xvalid_tfidf_ngram)\n",
    "print('RF, N-Gram Vectors: ', accuracy)"
   ]
  },
  {
   "cell_type": "markdown",
   "metadata": {},
   "source": [
    "Logistic Regression"
   ]
  },
  {
   "cell_type": "code",
   "execution_count": 70,
   "metadata": {},
   "outputs": [
    {
     "name": "stdout",
     "output_type": "stream",
     "text": [
      "LR, Count Vectors:  0.5547746000969462\n",
      "LR, N-Gram Vectors:  0.3739699466795928\n"
     ]
    }
   ],
   "source": [
    "# Logistic Regression on Count Vectors\n",
    "accuracy = train_model(linear_model.LogisticRegression(), xtrain_count, train_y, xvalid_count)\n",
    "print('LR, Count Vectors: ', accuracy)\n",
    "\n",
    "# Logistic Regression on Word Level TF IDF Vectors\n",
    "accuracy = train_model(linear_model.LogisticRegression(), xtrain_tfidf_ngram, train_y, xvalid_tfidf_ngram)\n",
    "print('LR, N-Gram Vectors: ', accuracy)"
   ]
  },
  {
   "cell_type": "markdown",
   "metadata": {},
   "source": [
    "Neural Network"
   ]
  },
  {
   "cell_type": "code",
   "execution_count": 71,
   "metadata": {},
   "outputs": [
    {
     "name": "stdout",
     "output_type": "stream",
     "text": [
      "LR, Count Vectors:  0.5857973824527387\n",
      "LR, N-Gram Vectors:  0.33446437227338827\n"
     ]
    }
   ],
   "source": [
    "# Logistic Regression on Count Vectors\n",
    "accuracy = train_model(neural_network.MLPClassifier(), xtrain_count, train_y, xvalid_count)\n",
    "print('LR, Count Vectors: ', accuracy)\n",
    "\n",
    "# Logistic Regression on Word Level TF IDF Vectors\n",
    "accuracy = train_model(neural_network.MLPClassifier(), xtrain_tfidf_ngram, train_y, xvalid_tfidf_ngram)\n",
    "print('LR, N-Gram Vectors: ', accuracy)"
   ]
  },
  {
   "cell_type": "code",
   "execution_count": null,
   "metadata": {},
   "outputs": [],
   "source": []
  },
  {
   "cell_type": "code",
   "execution_count": null,
   "metadata": {},
   "outputs": [],
   "source": []
  },
  {
   "cell_type": "code",
   "execution_count": null,
   "metadata": {},
   "outputs": [],
   "source": []
  },
  {
   "cell_type": "code",
   "execution_count": null,
   "metadata": {},
   "outputs": [],
   "source": []
  },
  {
   "cell_type": "code",
   "execution_count": null,
   "metadata": {},
   "outputs": [],
   "source": []
  },
  {
   "cell_type": "code",
   "execution_count": null,
   "metadata": {},
   "outputs": [],
   "source": []
  },
  {
   "cell_type": "code",
   "execution_count": null,
   "metadata": {},
   "outputs": [],
   "source": []
  },
  {
   "cell_type": "code",
   "execution_count": 23,
   "metadata": {},
   "outputs": [
    {
     "name": "stdout",
     "output_type": "stream",
     "text": [
      "  (0, 705)\t1\n",
      "  (0, 5319)\t1\n",
      "  (0, 7904)\t1\n",
      "  (0, 8497)\t1\n",
      "  (0, 14247)\t1\n",
      "  (0, 14831)\t1\n",
      "  (0, 18339)\t1\n",
      "  (0, 18559)\t1\n",
      "  (0, 20144)\t1\n",
      "  (0, 21950)\t1\n",
      "  (0, 22336)\t1\n",
      "  (0, 22701)\t1\n",
      "  (0, 24916)\t1\n",
      "  (0, 25984)\t2\n",
      "  (0, 28431)\t1\n",
      "  (0, 28756)\t1\n",
      "  (0, 29292)\t2\n",
      "  (0, 32821)\t2\n",
      "  (0, 35086)\t3\n",
      "  (0, 35810)\t2\n",
      "  (0, 44598)\t2\n",
      "  (0, 45296)\t2\n",
      "  (0, 47785)\t2\n",
      "  (1, 2173)\t1\n",
      "  (1, 7936)\t1\n",
      "  :\t:\n",
      "  (12373, 21365)\t1\n",
      "  (12373, 24342)\t1\n",
      "  (12373, 26626)\t1\n",
      "  (12373, 26926)\t1\n",
      "  (12373, 28756)\t1\n",
      "  (12373, 29881)\t1\n",
      "  (12373, 32531)\t1\n",
      "  (12373, 35729)\t1\n",
      "  (12373, 36650)\t1\n",
      "  (12373, 37672)\t1\n",
      "  (12373, 44598)\t1\n",
      "  (12374, 705)\t1\n",
      "  (12374, 9368)\t1\n",
      "  (12374, 9744)\t1\n",
      "  (12374, 25158)\t1\n",
      "  (12374, 25500)\t1\n",
      "  (12374, 35086)\t1\n",
      "  (12374, 35376)\t1\n",
      "  (12374, 35570)\t1\n",
      "  (12374, 43791)\t1\n",
      "  (12374, 43994)\t1\n",
      "  (12374, 44006)\t1\n",
      "  (12374, 47856)\t1\n",
      "  (12374, 48297)\t1\n",
      "  (12374, 50703)\t1\n"
     ]
    }
   ],
   "source": [
    "print(xtrain_count)"
   ]
  },
  {
   "cell_type": "code",
   "execution_count": 26,
   "metadata": {},
   "outputs": [
    {
     "name": "stdout",
     "output_type": "stream",
     "text": [
      "  (0, 4515)\t0.21265636843524072\n",
      "  (0, 4418)\t0.17242691122871398\n",
      "  (0, 4417)\t0.16439858262062082\n",
      "  (0, 4380)\t0.17493709198309398\n",
      "  (0, 4376)\t0.15119794717219978\n",
      "  (0, 3980)\t0.2198515919560118\n",
      "  (0, 3971)\t0.2295717687266814\n",
      "  (0, 3969)\t0.154153823713961\n",
      "  (0, 3864)\t0.38061820568220417\n",
      "  (0, 3861)\t0.319681357577889\n",
      "  (0, 3816)\t0.16244321080109445\n",
      "  (0, 3814)\t0.15853376014850315\n",
      "  (0, 3546)\t0.3159837212762862\n",
      "  (0, 2777)\t0.16957678873041598\n",
      "  (0, 2773)\t0.12622236465900158\n",
      "  (0, 2742)\t0.15234300822161265\n",
      "  (0, 2740)\t0.14703666163681955\n",
      "  (0, 2216)\t0.18285619560674068\n",
      "  (0, 2215)\t0.17428806394232454\n",
      "  (0, 1391)\t0.1746106912107693\n",
      "  (0, 1390)\t0.1739691239233932\n",
      "  (0, 1153)\t0.2295717687266814\n",
      "  (0, 1089)\t0.17428806394232454\n",
      "  (0, 1087)\t0.15542979214417638\n",
      "  (1, 4693)\t0.4602596890563726\n",
      "  :\t:\n",
      "  (12369, 448)\t0.29365848430272046\n",
      "  (12370, 4739)\t0.41950866844672596\n",
      "  (12370, 4596)\t0.42934564409487963\n",
      "  (12370, 1705)\t0.5518349227285468\n",
      "  (12370, 1704)\t0.46481172009805294\n",
      "  (12370, 1262)\t0.3451131378424705\n",
      "  (12371, 3834)\t0.3955192626609413\n",
      "  (12371, 2686)\t0.3594521841885776\n",
      "  (12371, 2553)\t0.3713302962438636\n",
      "  (12371, 1217)\t0.3819709833177668\n",
      "  (12371, 1124)\t0.30372065869767867\n",
      "  (12371, 506)\t0.3594521841885776\n",
      "  (12371, 504)\t0.25491549076512793\n",
      "  (12371, 69)\t0.37965326348023426\n",
      "  (12373, 4365)\t0.36586856788669725\n",
      "  (12373, 4363)\t0.3485569893459076\n",
      "  (12373, 2775)\t0.3666048709003799\n",
      "  (12373, 2773)\t0.33024981542043574\n",
      "  (12373, 2498)\t0.40013757449410875\n",
      "  (12373, 1075)\t0.30272268509420674\n",
      "  (12373, 209)\t0.499432719858104\n",
      "  (12374, 4258)\t0.5406001160887629\n",
      "  (12374, 3941)\t0.5463181409276605\n",
      "  (12374, 3909)\t0.34211038841721375\n",
      "  (12374, 611)\t0.5406001160887629\n"
     ]
    }
   ],
   "source": [
    "print(xtrain_tfidf_ngram)"
   ]
  },
  {
   "cell_type": "code",
   "execution_count": null,
   "metadata": {},
   "outputs": [],
   "source": []
  },
  {
   "cell_type": "code",
   "execution_count": null,
   "metadata": {},
   "outputs": [],
   "source": []
  },
  {
   "cell_type": "code",
   "execution_count": null,
   "metadata": {},
   "outputs": [],
   "source": []
  },
  {
   "cell_type": "code",
   "execution_count": null,
   "metadata": {},
   "outputs": [],
   "source": []
  },
  {
   "cell_type": "code",
   "execution_count": null,
   "metadata": {},
   "outputs": [],
   "source": []
  },
  {
   "cell_type": "code",
   "execution_count": null,
   "metadata": {},
   "outputs": [],
   "source": []
  },
  {
   "cell_type": "code",
   "execution_count": null,
   "metadata": {},
   "outputs": [],
   "source": []
  },
  {
   "cell_type": "code",
   "execution_count": null,
   "metadata": {},
   "outputs": [],
   "source": []
  },
  {
   "cell_type": "code",
   "execution_count": 33,
   "metadata": {},
   "outputs": [
    {
     "name": "stdout",
     "output_type": "stream",
     "text": [
      "(12375, 51137)\n"
     ]
    }
   ],
   "source": [
    "#A: XTrain\n",
    "xtrain_count\n",
    "print(xtrain_count.shape)"
   ]
  },
  {
   "cell_type": "code",
   "execution_count": 34,
   "metadata": {},
   "outputs": [
    {
     "name": "stdout",
     "output_type": "stream",
     "text": [
      "(12375, 5000)\n"
     ]
    }
   ],
   "source": [
    "#B: XTrain\n",
    "xtrain_tfidf_ngram\n",
    "print(xtrain_tfidf_ngram.shape)"
   ]
  },
  {
   "cell_type": "code",
   "execution_count": 45,
   "metadata": {},
   "outputs": [
    {
     "name": "stdout",
     "output_type": "stream",
     "text": [
      "2982     13\n",
      "8473      2\n",
      "8357      7\n",
      "9756     11\n",
      "5978     12\n",
      "         ..\n",
      "7884     11\n",
      "12172    11\n",
      "1766      7\n",
      "2785     11\n",
      "3521     13\n",
      "Name: Label, Length: 12375, dtype: int32\n",
      "(12375,)\n"
     ]
    }
   ],
   "source": [
    "#Y Train for Both\n",
    "print(train_y)\n",
    "print(train_y.shape)"
   ]
  },
  {
   "cell_type": "code",
   "execution_count": 44,
   "metadata": {},
   "outputs": [
    {
     "name": "stdout",
     "output_type": "stream",
     "text": [
      "(4126, 51137)\n"
     ]
    }
   ],
   "source": [
    "#A: X Valid\n",
    "xvalid_count\n",
    "print(xvalid_count.shape)"
   ]
  },
  {
   "cell_type": "code",
   "execution_count": 43,
   "metadata": {},
   "outputs": [
    {
     "name": "stdout",
     "output_type": "stream",
     "text": [
      "(4126, 5000)\n"
     ]
    }
   ],
   "source": [
    "#B: X Valid\n",
    "xvalid_tfidf_ngram\n",
    "print(xvalid_tfidf_ngram.shape)"
   ]
  },
  {
   "cell_type": "code",
   "execution_count": null,
   "metadata": {},
   "outputs": [],
   "source": []
  },
  {
   "cell_type": "code",
   "execution_count": null,
   "metadata": {},
   "outputs": [],
   "source": []
  },
  {
   "cell_type": "code",
   "execution_count": null,
   "metadata": {},
   "outputs": [],
   "source": []
  },
  {
   "cell_type": "code",
   "execution_count": null,
   "metadata": {},
   "outputs": [],
   "source": []
  },
  {
   "cell_type": "code",
   "execution_count": null,
   "metadata": {},
   "outputs": [],
   "source": []
  },
  {
   "cell_type": "code",
   "execution_count": null,
   "metadata": {},
   "outputs": [],
   "source": []
  },
  {
   "cell_type": "code",
   "execution_count": null,
   "metadata": {},
   "outputs": [],
   "source": []
  },
  {
   "cell_type": "code",
   "execution_count": null,
   "metadata": {},
   "outputs": [],
   "source": []
  },
  {
   "cell_type": "code",
   "execution_count": null,
   "metadata": {},
   "outputs": [],
   "source": []
  },
  {
   "cell_type": "code",
   "execution_count": 65,
   "metadata": {},
   "outputs": [
    {
     "name": "stderr",
     "output_type": "stream",
     "text": [
      "2021-04-17 19:27:08,319 - polyssifier - INFO - Building classifiers ...\n",
      "2021-04-17 19:27:08,370 - polyssifier - INFO - Initialization, done.\n",
      "2021-04-17 19:27:09,111 - polyssifier - INFO - Training Nearest Neighbors 0\n"
     ]
    },
    {
     "ename": "ValueError",
     "evalue": "Cannot center sparse matrices: pass `with_mean=False` instead. See docstring for motivation and alternatives.",
     "output_type": "error",
     "traceback": [
      "\u001b[1;31m---------------------------------------------------------------------------\u001b[0m",
      "\u001b[1;31mValueError\u001b[0m                                Traceback (most recent call last)",
      "\u001b[1;32m<ipython-input-65-f51264cadb70>\u001b[0m in \u001b[0;36m<module>\u001b[1;34m\u001b[0m\n\u001b[0;32m      1\u001b[0m \u001b[1;31m#Version A:\u001b[0m\u001b[1;33m\u001b[0m\u001b[1;33m\u001b[0m\u001b[1;33m\u001b[0m\u001b[0m\n\u001b[1;32m----> 2\u001b[1;33m report = poly(xtrain_tfidf_ngram,train_y, n_folds=3, verbose=True, save=False, scale=True,\n\u001b[0m\u001b[0;32m      3\u001b[0m               feature_selection=False, scoring='auc', concurrency=1, exclude=['Multilayer Perceptron', 'SVM', 'Linear SVM'])\n",
      "\u001b[1;32m~\\Anaconda3\\lib\\site-packages\\polyssifier\\polyssifier.py\u001b[0m in \u001b[0;36mpoly\u001b[1;34m(data, label, n_folds, scale, exclude, feature_selection, save, scoring, project_name, concurrency, verbose)\u001b[0m\n\u001b[0;32m    102\u001b[0m \u001b[1;33m\u001b[0m\u001b[0m\n\u001b[0;32m    103\u001b[0m     \u001b[1;32mif\u001b[0m \u001b[0mconcurrency\u001b[0m \u001b[1;33m==\u001b[0m \u001b[1;36m1\u001b[0m\u001b[1;33m:\u001b[0m\u001b[1;33m\u001b[0m\u001b[1;33m\u001b[0m\u001b[0m\n\u001b[1;32m--> 104\u001b[1;33m         \u001b[0mresult\u001b[0m \u001b[1;33m=\u001b[0m \u001b[0mlist\u001b[0m\u001b[1;33m(\u001b[0m\u001b[0mstarmap\u001b[0m\u001b[1;33m(\u001b[0m\u001b[0mfit_clf\u001b[0m\u001b[1;33m,\u001b[0m \u001b[0margs2\u001b[0m\u001b[1;33m)\u001b[0m\u001b[1;33m)\u001b[0m\u001b[1;33m\u001b[0m\u001b[1;33m\u001b[0m\u001b[0m\n\u001b[0m\u001b[0;32m    105\u001b[0m     \u001b[1;32melse\u001b[0m\u001b[1;33m:\u001b[0m\u001b[1;33m\u001b[0m\u001b[1;33m\u001b[0m\u001b[0m\n\u001b[0;32m    106\u001b[0m         \u001b[0mpool\u001b[0m \u001b[1;33m=\u001b[0m \u001b[0mPool\u001b[0m\u001b[1;33m(\u001b[0m\u001b[0mprocesses\u001b[0m\u001b[1;33m=\u001b[0m\u001b[0mconcurrency\u001b[0m\u001b[1;33m)\u001b[0m\u001b[1;33m\u001b[0m\u001b[1;33m\u001b[0m\u001b[0m\n",
      "\u001b[1;32m~\\Anaconda3\\lib\\site-packages\\polyssifier\\polyssifier.py\u001b[0m in \u001b[0;36mfit_clf\u001b[1;34m(args, clf_name, val, n_fold, project_name, save, scoring)\u001b[0m\n\u001b[0;32m    232\u001b[0m             clf = GridSearchCV(clf, val['parameters'], n_jobs=1, cv=3,\n\u001b[0;32m    233\u001b[0m                                scoring=_scorer)\n\u001b[1;32m--> 234\u001b[1;33m         \u001b[0mclf\u001b[0m\u001b[1;33m.\u001b[0m\u001b[0mfit\u001b[0m\u001b[1;33m(\u001b[0m\u001b[0mX\u001b[0m\u001b[1;33m,\u001b[0m \u001b[0my\u001b[0m\u001b[1;33m)\u001b[0m\u001b[1;33m\u001b[0m\u001b[1;33m\u001b[0m\u001b[0m\n\u001b[0m\u001b[0;32m    235\u001b[0m         \u001b[1;32mif\u001b[0m \u001b[0msave\u001b[0m\u001b[1;33m:\u001b[0m\u001b[1;33m\u001b[0m\u001b[1;33m\u001b[0m\u001b[0m\n\u001b[0;32m    236\u001b[0m             \u001b[0mjoblib\u001b[0m\u001b[1;33m.\u001b[0m\u001b[0mdump\u001b[0m\u001b[1;33m(\u001b[0m\u001b[0mclf\u001b[0m\u001b[1;33m,\u001b[0m \u001b[0mfile_name\u001b[0m\u001b[1;33m)\u001b[0m\u001b[1;33m\u001b[0m\u001b[1;33m\u001b[0m\u001b[0m\n",
      "\u001b[1;32m~\\Anaconda3\\lib\\site-packages\\sklearn\\utils\\validation.py\u001b[0m in \u001b[0;36minner_f\u001b[1;34m(*args, **kwargs)\u001b[0m\n\u001b[0;32m     71\u001b[0m                           FutureWarning)\n\u001b[0;32m     72\u001b[0m         \u001b[0mkwargs\u001b[0m\u001b[1;33m.\u001b[0m\u001b[0mupdate\u001b[0m\u001b[1;33m(\u001b[0m\u001b[1;33m{\u001b[0m\u001b[0mk\u001b[0m\u001b[1;33m:\u001b[0m \u001b[0marg\u001b[0m \u001b[1;32mfor\u001b[0m \u001b[0mk\u001b[0m\u001b[1;33m,\u001b[0m \u001b[0marg\u001b[0m \u001b[1;32min\u001b[0m \u001b[0mzip\u001b[0m\u001b[1;33m(\u001b[0m\u001b[0msig\u001b[0m\u001b[1;33m.\u001b[0m\u001b[0mparameters\u001b[0m\u001b[1;33m,\u001b[0m \u001b[0margs\u001b[0m\u001b[1;33m)\u001b[0m\u001b[1;33m}\u001b[0m\u001b[1;33m)\u001b[0m\u001b[1;33m\u001b[0m\u001b[1;33m\u001b[0m\u001b[0m\n\u001b[1;32m---> 73\u001b[1;33m         \u001b[1;32mreturn\u001b[0m \u001b[0mf\u001b[0m\u001b[1;33m(\u001b[0m\u001b[1;33m**\u001b[0m\u001b[0mkwargs\u001b[0m\u001b[1;33m)\u001b[0m\u001b[1;33m\u001b[0m\u001b[1;33m\u001b[0m\u001b[0m\n\u001b[0m\u001b[0;32m     74\u001b[0m     \u001b[1;32mreturn\u001b[0m \u001b[0minner_f\u001b[0m\u001b[1;33m\u001b[0m\u001b[1;33m\u001b[0m\u001b[0m\n\u001b[0;32m     75\u001b[0m \u001b[1;33m\u001b[0m\u001b[0m\n",
      "\u001b[1;32m~\\Anaconda3\\lib\\site-packages\\sklearn\\model_selection\\_search.py\u001b[0m in \u001b[0;36mfit\u001b[1;34m(self, X, y, groups, **fit_params)\u001b[0m\n\u001b[0;32m    763\u001b[0m             \u001b[0mrefit_start_time\u001b[0m \u001b[1;33m=\u001b[0m \u001b[0mtime\u001b[0m\u001b[1;33m.\u001b[0m\u001b[0mtime\u001b[0m\u001b[1;33m(\u001b[0m\u001b[1;33m)\u001b[0m\u001b[1;33m\u001b[0m\u001b[1;33m\u001b[0m\u001b[0m\n\u001b[0;32m    764\u001b[0m             \u001b[1;32mif\u001b[0m \u001b[0my\u001b[0m \u001b[1;32mis\u001b[0m \u001b[1;32mnot\u001b[0m \u001b[1;32mNone\u001b[0m\u001b[1;33m:\u001b[0m\u001b[1;33m\u001b[0m\u001b[1;33m\u001b[0m\u001b[0m\n\u001b[1;32m--> 765\u001b[1;33m                 \u001b[0mself\u001b[0m\u001b[1;33m.\u001b[0m\u001b[0mbest_estimator_\u001b[0m\u001b[1;33m.\u001b[0m\u001b[0mfit\u001b[0m\u001b[1;33m(\u001b[0m\u001b[0mX\u001b[0m\u001b[1;33m,\u001b[0m \u001b[0my\u001b[0m\u001b[1;33m,\u001b[0m \u001b[1;33m**\u001b[0m\u001b[0mfit_params\u001b[0m\u001b[1;33m)\u001b[0m\u001b[1;33m\u001b[0m\u001b[1;33m\u001b[0m\u001b[0m\n\u001b[0m\u001b[0;32m    766\u001b[0m             \u001b[1;32melse\u001b[0m\u001b[1;33m:\u001b[0m\u001b[1;33m\u001b[0m\u001b[1;33m\u001b[0m\u001b[0m\n\u001b[0;32m    767\u001b[0m                 \u001b[0mself\u001b[0m\u001b[1;33m.\u001b[0m\u001b[0mbest_estimator_\u001b[0m\u001b[1;33m.\u001b[0m\u001b[0mfit\u001b[0m\u001b[1;33m(\u001b[0m\u001b[0mX\u001b[0m\u001b[1;33m,\u001b[0m \u001b[1;33m**\u001b[0m\u001b[0mfit_params\u001b[0m\u001b[1;33m)\u001b[0m\u001b[1;33m\u001b[0m\u001b[1;33m\u001b[0m\u001b[0m\n",
      "\u001b[1;32m~\\Anaconda3\\lib\\site-packages\\sklearn\\pipeline.py\u001b[0m in \u001b[0;36mfit\u001b[1;34m(self, X, y, **fit_params)\u001b[0m\n\u001b[0;32m    328\u001b[0m         \"\"\"\n\u001b[0;32m    329\u001b[0m         \u001b[0mfit_params_steps\u001b[0m \u001b[1;33m=\u001b[0m \u001b[0mself\u001b[0m\u001b[1;33m.\u001b[0m\u001b[0m_check_fit_params\u001b[0m\u001b[1;33m(\u001b[0m\u001b[1;33m**\u001b[0m\u001b[0mfit_params\u001b[0m\u001b[1;33m)\u001b[0m\u001b[1;33m\u001b[0m\u001b[1;33m\u001b[0m\u001b[0m\n\u001b[1;32m--> 330\u001b[1;33m         \u001b[0mXt\u001b[0m \u001b[1;33m=\u001b[0m \u001b[0mself\u001b[0m\u001b[1;33m.\u001b[0m\u001b[0m_fit\u001b[0m\u001b[1;33m(\u001b[0m\u001b[0mX\u001b[0m\u001b[1;33m,\u001b[0m \u001b[0my\u001b[0m\u001b[1;33m,\u001b[0m \u001b[1;33m**\u001b[0m\u001b[0mfit_params_steps\u001b[0m\u001b[1;33m)\u001b[0m\u001b[1;33m\u001b[0m\u001b[1;33m\u001b[0m\u001b[0m\n\u001b[0m\u001b[0;32m    331\u001b[0m         with _print_elapsed_time('Pipeline',\n\u001b[0;32m    332\u001b[0m                                  self._log_message(len(self.steps) - 1)):\n",
      "\u001b[1;32m~\\Anaconda3\\lib\\site-packages\\sklearn\\pipeline.py\u001b[0m in \u001b[0;36m_fit\u001b[1;34m(self, X, y, **fit_params_steps)\u001b[0m\n\u001b[0;32m    290\u001b[0m                 \u001b[0mcloned_transformer\u001b[0m \u001b[1;33m=\u001b[0m \u001b[0mclone\u001b[0m\u001b[1;33m(\u001b[0m\u001b[0mtransformer\u001b[0m\u001b[1;33m)\u001b[0m\u001b[1;33m\u001b[0m\u001b[1;33m\u001b[0m\u001b[0m\n\u001b[0;32m    291\u001b[0m             \u001b[1;31m# Fit or load from cache the current transformer\u001b[0m\u001b[1;33m\u001b[0m\u001b[1;33m\u001b[0m\u001b[1;33m\u001b[0m\u001b[0m\n\u001b[1;32m--> 292\u001b[1;33m             X, fitted_transformer = fit_transform_one_cached(\n\u001b[0m\u001b[0;32m    293\u001b[0m                 \u001b[0mcloned_transformer\u001b[0m\u001b[1;33m,\u001b[0m \u001b[0mX\u001b[0m\u001b[1;33m,\u001b[0m \u001b[0my\u001b[0m\u001b[1;33m,\u001b[0m \u001b[1;32mNone\u001b[0m\u001b[1;33m,\u001b[0m\u001b[1;33m\u001b[0m\u001b[1;33m\u001b[0m\u001b[0m\n\u001b[0;32m    294\u001b[0m                 \u001b[0mmessage_clsname\u001b[0m\u001b[1;33m=\u001b[0m\u001b[1;34m'Pipeline'\u001b[0m\u001b[1;33m,\u001b[0m\u001b[1;33m\u001b[0m\u001b[1;33m\u001b[0m\u001b[0m\n",
      "\u001b[1;32m~\\Anaconda3\\lib\\site-packages\\joblib\\memory.py\u001b[0m in \u001b[0;36m__call__\u001b[1;34m(self, *args, **kwargs)\u001b[0m\n\u001b[0;32m    350\u001b[0m \u001b[1;33m\u001b[0m\u001b[0m\n\u001b[0;32m    351\u001b[0m     \u001b[1;32mdef\u001b[0m \u001b[0m__call__\u001b[0m\u001b[1;33m(\u001b[0m\u001b[0mself\u001b[0m\u001b[1;33m,\u001b[0m \u001b[1;33m*\u001b[0m\u001b[0margs\u001b[0m\u001b[1;33m,\u001b[0m \u001b[1;33m**\u001b[0m\u001b[0mkwargs\u001b[0m\u001b[1;33m)\u001b[0m\u001b[1;33m:\u001b[0m\u001b[1;33m\u001b[0m\u001b[1;33m\u001b[0m\u001b[0m\n\u001b[1;32m--> 352\u001b[1;33m         \u001b[1;32mreturn\u001b[0m \u001b[0mself\u001b[0m\u001b[1;33m.\u001b[0m\u001b[0mfunc\u001b[0m\u001b[1;33m(\u001b[0m\u001b[1;33m*\u001b[0m\u001b[0margs\u001b[0m\u001b[1;33m,\u001b[0m \u001b[1;33m**\u001b[0m\u001b[0mkwargs\u001b[0m\u001b[1;33m)\u001b[0m\u001b[1;33m\u001b[0m\u001b[1;33m\u001b[0m\u001b[0m\n\u001b[0m\u001b[0;32m    353\u001b[0m \u001b[1;33m\u001b[0m\u001b[0m\n\u001b[0;32m    354\u001b[0m     \u001b[1;32mdef\u001b[0m \u001b[0mcall_and_shelve\u001b[0m\u001b[1;33m(\u001b[0m\u001b[0mself\u001b[0m\u001b[1;33m,\u001b[0m \u001b[1;33m*\u001b[0m\u001b[0margs\u001b[0m\u001b[1;33m,\u001b[0m \u001b[1;33m**\u001b[0m\u001b[0mkwargs\u001b[0m\u001b[1;33m)\u001b[0m\u001b[1;33m:\u001b[0m\u001b[1;33m\u001b[0m\u001b[1;33m\u001b[0m\u001b[0m\n",
      "\u001b[1;32m~\\Anaconda3\\lib\\site-packages\\sklearn\\pipeline.py\u001b[0m in \u001b[0;36m_fit_transform_one\u001b[1;34m(transformer, X, y, weight, message_clsname, message, **fit_params)\u001b[0m\n\u001b[0;32m    738\u001b[0m     \u001b[1;32mwith\u001b[0m \u001b[0m_print_elapsed_time\u001b[0m\u001b[1;33m(\u001b[0m\u001b[0mmessage_clsname\u001b[0m\u001b[1;33m,\u001b[0m \u001b[0mmessage\u001b[0m\u001b[1;33m)\u001b[0m\u001b[1;33m:\u001b[0m\u001b[1;33m\u001b[0m\u001b[1;33m\u001b[0m\u001b[0m\n\u001b[0;32m    739\u001b[0m         \u001b[1;32mif\u001b[0m \u001b[0mhasattr\u001b[0m\u001b[1;33m(\u001b[0m\u001b[0mtransformer\u001b[0m\u001b[1;33m,\u001b[0m \u001b[1;34m'fit_transform'\u001b[0m\u001b[1;33m)\u001b[0m\u001b[1;33m:\u001b[0m\u001b[1;33m\u001b[0m\u001b[1;33m\u001b[0m\u001b[0m\n\u001b[1;32m--> 740\u001b[1;33m             \u001b[0mres\u001b[0m \u001b[1;33m=\u001b[0m \u001b[0mtransformer\u001b[0m\u001b[1;33m.\u001b[0m\u001b[0mfit_transform\u001b[0m\u001b[1;33m(\u001b[0m\u001b[0mX\u001b[0m\u001b[1;33m,\u001b[0m \u001b[0my\u001b[0m\u001b[1;33m,\u001b[0m \u001b[1;33m**\u001b[0m\u001b[0mfit_params\u001b[0m\u001b[1;33m)\u001b[0m\u001b[1;33m\u001b[0m\u001b[1;33m\u001b[0m\u001b[0m\n\u001b[0m\u001b[0;32m    741\u001b[0m         \u001b[1;32melse\u001b[0m\u001b[1;33m:\u001b[0m\u001b[1;33m\u001b[0m\u001b[1;33m\u001b[0m\u001b[0m\n\u001b[0;32m    742\u001b[0m             \u001b[0mres\u001b[0m \u001b[1;33m=\u001b[0m \u001b[0mtransformer\u001b[0m\u001b[1;33m.\u001b[0m\u001b[0mfit\u001b[0m\u001b[1;33m(\u001b[0m\u001b[0mX\u001b[0m\u001b[1;33m,\u001b[0m \u001b[0my\u001b[0m\u001b[1;33m,\u001b[0m \u001b[1;33m**\u001b[0m\u001b[0mfit_params\u001b[0m\u001b[1;33m)\u001b[0m\u001b[1;33m.\u001b[0m\u001b[0mtransform\u001b[0m\u001b[1;33m(\u001b[0m\u001b[0mX\u001b[0m\u001b[1;33m)\u001b[0m\u001b[1;33m\u001b[0m\u001b[1;33m\u001b[0m\u001b[0m\n",
      "\u001b[1;32m~\\Anaconda3\\lib\\site-packages\\sklearn\\base.py\u001b[0m in \u001b[0;36mfit_transform\u001b[1;34m(self, X, y, **fit_params)\u001b[0m\n\u001b[0;32m    691\u001b[0m         \u001b[1;32melse\u001b[0m\u001b[1;33m:\u001b[0m\u001b[1;33m\u001b[0m\u001b[1;33m\u001b[0m\u001b[0m\n\u001b[0;32m    692\u001b[0m             \u001b[1;31m# fit method of arity 2 (supervised transformation)\u001b[0m\u001b[1;33m\u001b[0m\u001b[1;33m\u001b[0m\u001b[1;33m\u001b[0m\u001b[0m\n\u001b[1;32m--> 693\u001b[1;33m             \u001b[1;32mreturn\u001b[0m \u001b[0mself\u001b[0m\u001b[1;33m.\u001b[0m\u001b[0mfit\u001b[0m\u001b[1;33m(\u001b[0m\u001b[0mX\u001b[0m\u001b[1;33m,\u001b[0m \u001b[0my\u001b[0m\u001b[1;33m,\u001b[0m \u001b[1;33m**\u001b[0m\u001b[0mfit_params\u001b[0m\u001b[1;33m)\u001b[0m\u001b[1;33m.\u001b[0m\u001b[0mtransform\u001b[0m\u001b[1;33m(\u001b[0m\u001b[0mX\u001b[0m\u001b[1;33m)\u001b[0m\u001b[1;33m\u001b[0m\u001b[1;33m\u001b[0m\u001b[0m\n\u001b[0m\u001b[0;32m    694\u001b[0m \u001b[1;33m\u001b[0m\u001b[0m\n\u001b[0;32m    695\u001b[0m \u001b[1;33m\u001b[0m\u001b[0m\n",
      "\u001b[1;32m~\\Anaconda3\\lib\\site-packages\\sklearn\\preprocessing\\_data.py\u001b[0m in \u001b[0;36mfit\u001b[1;34m(self, X, y)\u001b[0m\n\u001b[0;32m    665\u001b[0m         \u001b[1;31m# Reset internal state before fitting\u001b[0m\u001b[1;33m\u001b[0m\u001b[1;33m\u001b[0m\u001b[1;33m\u001b[0m\u001b[0m\n\u001b[0;32m    666\u001b[0m         \u001b[0mself\u001b[0m\u001b[1;33m.\u001b[0m\u001b[0m_reset\u001b[0m\u001b[1;33m(\u001b[0m\u001b[1;33m)\u001b[0m\u001b[1;33m\u001b[0m\u001b[1;33m\u001b[0m\u001b[0m\n\u001b[1;32m--> 667\u001b[1;33m         \u001b[1;32mreturn\u001b[0m \u001b[0mself\u001b[0m\u001b[1;33m.\u001b[0m\u001b[0mpartial_fit\u001b[0m\u001b[1;33m(\u001b[0m\u001b[0mX\u001b[0m\u001b[1;33m,\u001b[0m \u001b[0my\u001b[0m\u001b[1;33m)\u001b[0m\u001b[1;33m\u001b[0m\u001b[1;33m\u001b[0m\u001b[0m\n\u001b[0m\u001b[0;32m    668\u001b[0m \u001b[1;33m\u001b[0m\u001b[0m\n\u001b[0;32m    669\u001b[0m     \u001b[1;32mdef\u001b[0m \u001b[0mpartial_fit\u001b[0m\u001b[1;33m(\u001b[0m\u001b[0mself\u001b[0m\u001b[1;33m,\u001b[0m \u001b[0mX\u001b[0m\u001b[1;33m,\u001b[0m \u001b[0my\u001b[0m\u001b[1;33m=\u001b[0m\u001b[1;32mNone\u001b[0m\u001b[1;33m)\u001b[0m\u001b[1;33m:\u001b[0m\u001b[1;33m\u001b[0m\u001b[1;33m\u001b[0m\u001b[0m\n",
      "\u001b[1;32m~\\Anaconda3\\lib\\site-packages\\sklearn\\preprocessing\\_data.py\u001b[0m in \u001b[0;36mpartial_fit\u001b[1;34m(self, X, y)\u001b[0m\n\u001b[0;32m    712\u001b[0m         \u001b[1;32mif\u001b[0m \u001b[0msparse\u001b[0m\u001b[1;33m.\u001b[0m\u001b[0missparse\u001b[0m\u001b[1;33m(\u001b[0m\u001b[0mX\u001b[0m\u001b[1;33m)\u001b[0m\u001b[1;33m:\u001b[0m\u001b[1;33m\u001b[0m\u001b[1;33m\u001b[0m\u001b[0m\n\u001b[0;32m    713\u001b[0m             \u001b[1;32mif\u001b[0m \u001b[0mself\u001b[0m\u001b[1;33m.\u001b[0m\u001b[0mwith_mean\u001b[0m\u001b[1;33m:\u001b[0m\u001b[1;33m\u001b[0m\u001b[1;33m\u001b[0m\u001b[0m\n\u001b[1;32m--> 714\u001b[1;33m                 raise ValueError(\n\u001b[0m\u001b[0;32m    715\u001b[0m                     \u001b[1;34m\"Cannot center sparse matrices: pass `with_mean=False` \"\u001b[0m\u001b[1;33m\u001b[0m\u001b[1;33m\u001b[0m\u001b[0m\n\u001b[0;32m    716\u001b[0m                     \"instead. See docstring for motivation and alternatives.\")\n",
      "\u001b[1;31mValueError\u001b[0m: Cannot center sparse matrices: pass `with_mean=False` instead. See docstring for motivation and alternatives."
     ]
    }
   ],
   "source": [
    "#Version A:\n",
    "report = poly(xtrain_tfidf_ngram,train_y, n_folds=3, verbose=True, save=False, scale=True,\n",
    "              feature_selection=False, scoring='auc', concurrency=1, exclude=['Multilayer Perceptron', 'SVM', 'Linear SVM'])"
   ]
  },
  {
   "cell_type": "code",
   "execution_count": null,
   "metadata": {},
   "outputs": [],
   "source": []
  },
  {
   "cell_type": "code",
   "execution_count": null,
   "metadata": {},
   "outputs": [],
   "source": []
  },
  {
   "cell_type": "code",
   "execution_count": null,
   "metadata": {},
   "outputs": [],
   "source": []
  },
  {
   "cell_type": "code",
   "execution_count": null,
   "metadata": {},
   "outputs": [],
   "source": []
  },
  {
   "cell_type": "code",
   "execution_count": null,
   "metadata": {},
   "outputs": [],
   "source": []
  },
  {
   "cell_type": "code",
   "execution_count": null,
   "metadata": {},
   "outputs": [],
   "source": []
  },
  {
   "cell_type": "code",
   "execution_count": null,
   "metadata": {},
   "outputs": [],
   "source": []
  },
  {
   "cell_type": "code",
   "execution_count": 40,
   "metadata": {},
   "outputs": [],
   "source": [
    "from sklearn import datasets\n",
    "from polyssifier import poly\n",
    "import numpy as np\n",
    "import pandas as pd\n",
    "from sklearn.datasets import make_moons, make_classification\n",
    "import matplotlib.pyplot as plt \n",
    "%matplotlib inline\n",
    "import warnings\n",
    "warnings.filterwarnings(\"ignore\")"
   ]
  },
  {
   "cell_type": "code",
   "execution_count": 41,
   "metadata": {},
   "outputs": [
    {
     "name": "stdout",
     "output_type": "stream",
     "text": [
      "(500, 2)\n",
      "(500,)\n"
     ]
    },
    {
     "data": {
      "image/png": "[encoded data removed]",
      "text/plain": [
       "<Figure size 432x288 with 1 Axes>"
      ]
     },
     "metadata": {
      "needs_background": "light"
     },
     "output_type": "display_data"
    }
   ],
   "source": [
    "data, label = make_moons(n_samples=500, noise=0.4)\n",
    "print(data.shape)\n",
    "print(label.shape)\n",
    "\n",
    "plt.plot(data[label==0,0], data[label==0,1],'.', alpha=.5);\n",
    "plt.plot(data[label==1,0], data[label==1,1],'r.', alpha=.5);"
   ]
  },
  {
   "cell_type": "code",
   "execution_count": 42,
   "metadata": {},
   "outputs": [
    {
     "name": "stderr",
     "output_type": "stream",
     "text": [
      "2021-04-17 19:19:31,497 - polyssifier - INFO - Building classifiers ...\n",
      "2021-04-17 19:19:31,537 - polyssifier - INFO - Initialization, done.\n",
      "2021-04-17 19:19:32,200 - polyssifier - INFO - Training Nearest Neighbors 0\n",
      "2021-04-17 19:19:32,375 - polyssifier - INFO - Nearest Neighbors          0: Train 0.93/Test 0.94, 0.17 sec\n",
      "2021-04-17 19:19:32,378 - polyssifier - INFO - Training Nearest Neighbors 1\n",
      "2021-04-17 19:19:32,534 - polyssifier - INFO - Nearest Neighbors          1: Train 0.95/Test 0.91, 0.16 sec\n",
      "2021-04-17 19:19:32,539 - polyssifier - INFO - Training Nearest Neighbors 2\n",
      "2021-04-17 19:19:32,678 - polyssifier - INFO - Nearest Neighbors          2: Train 0.94/Test 0.91, 0.14 sec\n",
      "2021-04-17 19:19:32,682 - polyssifier - INFO - Training SVM 0\n",
      "2021-04-17 19:19:32,999 - polyssifier - INFO - SVM                        0: Train 0.91/Test 0.92, 0.32 sec\n",
      "2021-04-17 19:19:33,003 - polyssifier - INFO - Training SVM 1\n",
      "2021-04-17 19:19:33,347 - polyssifier - INFO - SVM                        1: Train 0.93/Test 0.91, 0.34 sec\n",
      "2021-04-17 19:19:33,351 - polyssifier - INFO - Training SVM 2\n",
      "2021-04-17 19:19:33,709 - polyssifier - INFO - SVM                        2: Train 0.93/Test 0.91, 0.36 sec\n",
      "2021-04-17 19:19:33,713 - polyssifier - INFO - Training Linear SVM 0\n",
      "2021-04-17 19:19:33,847 - polyssifier - INFO - Linear SVM                 0: Train 0.90/Test 0.91, 0.13 sec\n",
      "2021-04-17 19:19:33,851 - polyssifier - INFO - Training Linear SVM 1\n",
      "2021-04-17 19:19:33,975 - polyssifier - INFO - Linear SVM                 1: Train 0.90/Test 0.90, 0.12 sec\n",
      "2021-04-17 19:19:33,978 - polyssifier - INFO - Training Linear SVM 2\n"
     ]
    },
    {
     "name": "stdout",
     "output_type": "stream",
     "text": [
      "predict proba return shape (167,)\n",
      "predict proba return shape (167,)\n"
     ]
    },
    {
     "name": "stderr",
     "output_type": "stream",
     "text": [
      "2021-04-17 19:19:34,118 - polyssifier - INFO - Linear SVM                 2: Train 0.90/Test 0.90, 0.14 sec\n",
      "2021-04-17 19:19:34,122 - polyssifier - INFO - Training Decision Tree 0\n",
      "2021-04-17 19:19:34,144 - polyssifier - INFO - Decision Tree              0: Train 1.00/Test 0.81, 0.02 sec\n",
      "2021-04-17 19:19:34,150 - polyssifier - INFO - Training Decision Tree 1\n",
      "2021-04-17 19:19:34,169 - polyssifier - INFO - Decision Tree              1: Train 1.00/Test 0.81, 0.02 sec\n",
      "2021-04-17 19:19:34,173 - polyssifier - INFO - Training Decision Tree 2\n",
      "2021-04-17 19:19:34,194 - polyssifier - INFO - Decision Tree              2: Train 1.00/Test 0.77, 0.02 sec\n",
      "2021-04-17 19:19:34,199 - polyssifier - INFO - Training Random Forest 0\n"
     ]
    },
    {
     "name": "stdout",
     "output_type": "stream",
     "text": [
      "predict proba return shape (166,)\n"
     ]
    },
    {
     "name": "stderr",
     "output_type": "stream",
     "text": [
      "2021-04-17 19:19:36,168 - polyssifier - INFO - Random Forest              0: Train 1.00/Test 0.92, 1.97 sec\n",
      "2021-04-17 19:19:36,178 - polyssifier - INFO - Training Random Forest 1\n",
      "2021-04-17 19:19:38,456 - polyssifier - INFO - Random Forest              1: Train 1.00/Test 0.88, 2.28 sec\n",
      "2021-04-17 19:19:38,478 - polyssifier - INFO - Training Random Forest 2\n",
      "2021-04-17 19:19:41,363 - polyssifier - INFO - Random Forest              2: Train 1.00/Test 0.87, 2.88 sec\n",
      "2021-04-17 19:19:41,375 - polyssifier - INFO - Training Logistic Regression 0\n",
      "2021-04-17 19:19:41,515 - polyssifier - INFO - Logistic Regression        0: Train 0.90/Test 0.91, 0.14 sec\n",
      "2021-04-17 19:19:41,520 - polyssifier - INFO - Training Logistic Regression 1\n",
      "2021-04-17 19:19:41,670 - polyssifier - INFO - Logistic Regression        1: Train 0.90/Test 0.90, 0.15 sec\n",
      "2021-04-17 19:19:41,676 - polyssifier - INFO - Training Logistic Regression 2\n",
      "2021-04-17 19:19:41,830 - polyssifier - INFO - Logistic Regression        2: Train 0.90/Test 0.90, 0.15 sec\n",
      "2021-04-17 19:19:41,834 - polyssifier - INFO - Training Naive Bayes 0\n",
      "2021-04-17 19:19:41,850 - polyssifier - INFO - Naive Bayes                0: Train 0.90/Test 0.91, 0.02 sec\n",
      "2021-04-17 19:19:41,853 - polyssifier - INFO - Training Naive Bayes 1\n",
      "2021-04-17 19:19:41,869 - polyssifier - INFO - Naive Bayes                1: Train 0.90/Test 0.90, 0.02 sec\n",
      "2021-04-17 19:19:41,874 - polyssifier - INFO - Training Naive Bayes 2\n",
      "2021-04-17 19:19:41,894 - polyssifier - INFO - Naive Bayes                2: Train 0.90/Test 0.90, 0.02 sec\n"
     ]
    },
    {
     "name": "stdout",
     "output_type": "stream",
     "text": [
      "                               mean       std       min       max\n",
      "Nearest Neighbors   train  0.940450  0.007107  0.933410  0.947623\n",
      "                    test   0.920154  0.016964  0.906411  0.939114\n",
      "SVM                 train  0.925289  0.009121  0.914761  0.930797\n",
      "                    test   0.916352  0.006629  0.910643  0.923623\n",
      "Linear SVM          train  0.903363  0.001563  0.901703  0.904805\n",
      "                    test   0.903208  0.006125  0.897663  0.909782\n",
      "Decision Tree       train  1.000000  0.000000  1.000000  1.000000\n",
      "                    test   0.797739  0.023274  0.771084  0.814042\n",
      "Random Forest       train  0.999401  0.000331  0.999068  0.999729\n",
      "                    test   0.892497  0.026662  0.873131  0.922906\n",
      "Logistic Regression train  0.903315  0.001582  0.901630  0.904769\n",
      "                    test   0.903401  0.006058  0.897953  0.909925\n",
      "Naive Bayes         train  0.903314  0.002061  0.900945  0.904697\n",
      "                    test   0.902871  0.007197  0.897082  0.910929\n",
      "Voting              train  0.852957  0.023563  0.825788  0.867813\n",
      "                    test   0.853796  0.003809  0.849398  0.855995\n"
     ]
    },
    {
     "data": {
      "image/png": "[encoded data removed]",
      "text/plain": [
       "<Figure size 1152x360 with 1 Axes>"
      ]
     },
     "metadata": {
      "needs_background": "light"
     },
     "output_type": "display_data"
    }
   ],
   "source": [
    "report = poly(data,label, n_folds=3, verbose=True, save=False, scale=True,\n",
    "              feature_selection=False, scoring='auc', concurrency=1, exclude=['Multilayer Perceptron'])\n",
    "report.plot_scores()"
   ]
  },
  {
   "cell_type": "code",
   "execution_count": null,
   "metadata": {},
   "outputs": [],
   "source": []
  },
  {
   "cell_type": "code",
   "execution_count": null,
   "metadata": {},
   "outputs": [],
   "source": []
  },
  {
   "cell_type": "code",
   "execution_count": null,
   "metadata": {},
   "outputs": [],
   "source": []
  },
  {
   "cell_type": "code",
   "execution_count": null,
   "metadata": {},
   "outputs": [],
   "source": []
  },
  {
   "cell_type": "code",
   "execution_count": null,
   "metadata": {},
   "outputs": [],
   "source": []
  }
 ],
 "metadata": {
  "kernelspec": {
   "display_name": "Python 3",
   "language": "python",
   "name": "python3"
  },
  "language_info": {
   "codemirror_mode": {
    "name": "ipython",
    "version": 3
   },
   "file_extension": ".py",
   "mimetype": "text/x-python",
   "name": "python",
   "nbconvert_exporter": "python",
   "pygments_lexer": "ipython3",
   "version": "3.8.3"
  }
 },
 "nbformat": 4,
 "nbformat_minor": 4
}
